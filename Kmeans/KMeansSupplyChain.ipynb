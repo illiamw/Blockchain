{
 "cells": [
  {
   "cell_type": "markdown",
   "metadata": {},
   "source": [
    "# Business plan validation\n",
    "\n",
    "## Objective:\n",
    "This Experiment aims to verify the effectiveness of using a machine learning method using the KNN algorithm to validate from one point to another in the transport chain in the application domain, which is legal logging.\n",
    "\n",
    "## Description:\n",
    "Using data provided by IBAMA in the Open Data program (http://dadosabertos.ibama.gov.br/organization/instituto-brasileiro-do-meio-ambiente-e-dos-recursos-naturais-renovaveis) using 2 base fingers being these:\n",
    "* Authorized Extraction / Transportation\n",
    "* Manufacturing\n",
    "Using as a parameter the time between the points and the validation of the DOF serial number used by ibama, two centroid clusters are drawn and these product ** validated legal ** and product ** validated **"
   ]
  },
  {
   "cell_type": "markdown",
   "metadata": {},
   "source": [
    "## Data manipulation library: Pandas"
   ]
  },
  {
   "cell_type": "code",
   "execution_count": 1,
   "metadata": {},
   "outputs": [],
   "source": [
    "import numpy\n",
    "import pandas\n",
    "import random"
   ]
  },
  {
   "cell_type": "markdown",
   "metadata": {},
   "source": [
    "# 1. Collecting IBAMA Data\n"
   ]
  },
  {
   "cell_type": "code",
   "execution_count": 2,
   "metadata": {},
   "outputs": [],
   "source": [
    "names_extracao = [\"Nº de Série do DOF\",\"Número do Trecho\",\"Município Início\",\"Município Fim\",\"Tipo de Transporte\",\"Placa(s)/Registro do Veículo\",\"UF\",\"RegistroEntrada\"]"
   ]
  },
  {
   "cell_type": "code",
   "execution_count": 3,
   "metadata": {},
   "outputs": [],
   "source": [
    "extracao = pandas.read_csv('extracao.csv', header=None, names=names_extracao,delimiter=\";\")"
   ]
  },
  {
   "cell_type": "code",
   "execution_count": 4,
   "metadata": {},
   "outputs": [
    {
     "data": {
      "text/html": [
       "<div>\n",
       "<style scoped>\n",
       "    .dataframe tbody tr th:only-of-type {\n",
       "        vertical-align: middle;\n",
       "    }\n",
       "\n",
       "    .dataframe tbody tr th {\n",
       "        vertical-align: top;\n",
       "    }\n",
       "\n",
       "    .dataframe thead th {\n",
       "        text-align: right;\n",
       "    }\n",
       "</style>\n",
       "<table border=\"1\" class=\"dataframe\">\n",
       "  <thead>\n",
       "    <tr style=\"text-align: right;\">\n",
       "      <th></th>\n",
       "      <th>Nº de Série do DOF</th>\n",
       "      <th>Número do Trecho</th>\n",
       "      <th>Município Início</th>\n",
       "      <th>Município Fim</th>\n",
       "      <th>Tipo de Transporte</th>\n",
       "      <th>Placa(s)/Registro do Veículo</th>\n",
       "      <th>UF</th>\n",
       "      <th>RegistroEntrada</th>\n",
       "    </tr>\n",
       "  </thead>\n",
       "  <tbody>\n",
       "    <tr>\n",
       "      <td>0</td>\n",
       "      <td>668530</td>\n",
       "      <td>1</td>\n",
       "      <td>CRUZEIRO DO SUL/AC</td>\n",
       "      <td>CRUZEIRO DO SUL/AC</td>\n",
       "      <td>Rodoviario</td>\n",
       "      <td>MZO0581</td>\n",
       "      <td>AC</td>\n",
       "      <td>09/10/2019 11:00</td>\n",
       "    </tr>\n",
       "    <tr>\n",
       "      <td>1</td>\n",
       "      <td>424502</td>\n",
       "      <td>1</td>\n",
       "      <td>RODRIGUES ALVES/AC</td>\n",
       "      <td>CRUZEIRO DO SUL/AC</td>\n",
       "      <td>Rodoviario</td>\n",
       "      <td>MZN9222</td>\n",
       "      <td>AC</td>\n",
       "      <td>09/10/2019 11:00</td>\n",
       "    </tr>\n",
       "    <tr>\n",
       "      <td>2</td>\n",
       "      <td>549785</td>\n",
       "      <td>1</td>\n",
       "      <td>RIO BRANCO/AC</td>\n",
       "      <td>RIO BRANCO/AC</td>\n",
       "      <td>Rodoviario</td>\n",
       "      <td>MZZ4636</td>\n",
       "      <td>AC</td>\n",
       "      <td>09/10/2019 11:00</td>\n",
       "    </tr>\n",
       "    <tr>\n",
       "      <td>3</td>\n",
       "      <td>339788</td>\n",
       "      <td>1</td>\n",
       "      <td>CRUZEIRO DO SUL/AC</td>\n",
       "      <td>CRUZEIRO DO SUL/AC</td>\n",
       "      <td>Rodoviario</td>\n",
       "      <td>MZO0089</td>\n",
       "      <td>AC</td>\n",
       "      <td>09/10/2019 11:00</td>\n",
       "    </tr>\n",
       "    <tr>\n",
       "      <td>4</td>\n",
       "      <td>460049</td>\n",
       "      <td>1</td>\n",
       "      <td>SENA MADUREIRA/AC</td>\n",
       "      <td>RIO BRANCO/AC</td>\n",
       "      <td>Rodoviario</td>\n",
       "      <td>JZO0955</td>\n",
       "      <td>AC</td>\n",
       "      <td>09/10/2019 11:00</td>\n",
       "    </tr>\n",
       "    <tr>\n",
       "      <td>...</td>\n",
       "      <td>...</td>\n",
       "      <td>...</td>\n",
       "      <td>...</td>\n",
       "      <td>...</td>\n",
       "      <td>...</td>\n",
       "      <td>...</td>\n",
       "      <td>...</td>\n",
       "      <td>...</td>\n",
       "    </tr>\n",
       "    <tr>\n",
       "      <td>14608</td>\n",
       "      <td>572101</td>\n",
       "      <td>1</td>\n",
       "      <td>RIO BRANCO/AC</td>\n",
       "      <td>RIO BRANCO/AC</td>\n",
       "      <td>Rodoviario</td>\n",
       "      <td>MCJ9980</td>\n",
       "      <td>AC</td>\n",
       "      <td>09/10/2019 11:00</td>\n",
       "    </tr>\n",
       "    <tr>\n",
       "      <td>14609</td>\n",
       "      <td>642280</td>\n",
       "      <td>1</td>\n",
       "      <td>BUJARI/AC</td>\n",
       "      <td>RIO BRANCO/AC</td>\n",
       "      <td>Rodoviario</td>\n",
       "      <td>NBX7537</td>\n",
       "      <td>AC</td>\n",
       "      <td>09/10/2019 11:00</td>\n",
       "    </tr>\n",
       "    <tr>\n",
       "      <td>14610</td>\n",
       "      <td>566519</td>\n",
       "      <td>1</td>\n",
       "      <td>BUJARI/AC</td>\n",
       "      <td>PORTO ACRE/AC</td>\n",
       "      <td>Rodoviario</td>\n",
       "      <td>MZZ4636</td>\n",
       "      <td>AC</td>\n",
       "      <td>09/10/2019 11:00</td>\n",
       "    </tr>\n",
       "    <tr>\n",
       "      <td>14611</td>\n",
       "      <td>599381</td>\n",
       "      <td>1</td>\n",
       "      <td>RIO BRANCO/AC</td>\n",
       "      <td>RIO BRANCO/AC</td>\n",
       "      <td>Rodoviario</td>\n",
       "      <td>NCR3630</td>\n",
       "      <td>AC</td>\n",
       "      <td>09/10/2019 11:00</td>\n",
       "    </tr>\n",
       "    <tr>\n",
       "      <td>14612</td>\n",
       "      <td>474496</td>\n",
       "      <td>1</td>\n",
       "      <td>BUJARI/AC</td>\n",
       "      <td>RIO BRANCO/AC</td>\n",
       "      <td>Rodoviario</td>\n",
       "      <td>NBK7358</td>\n",
       "      <td>AC</td>\n",
       "      <td>09/10/2019 11:00</td>\n",
       "    </tr>\n",
       "  </tbody>\n",
       "</table>\n",
       "<p>14613 rows × 8 columns</p>\n",
       "</div>"
      ],
      "text/plain": [
       "       Nº de Série do DOF  Número do Trecho    Município Início  \\\n",
       "0                  668530                 1  CRUZEIRO DO SUL/AC   \n",
       "1                  424502                 1  RODRIGUES ALVES/AC   \n",
       "2                  549785                 1       RIO BRANCO/AC   \n",
       "3                  339788                 1  CRUZEIRO DO SUL/AC   \n",
       "4                  460049                 1   SENA MADUREIRA/AC   \n",
       "...                   ...               ...                 ...   \n",
       "14608              572101                 1       RIO BRANCO/AC   \n",
       "14609              642280                 1           BUJARI/AC   \n",
       "14610              566519                 1           BUJARI/AC   \n",
       "14611              599381                 1       RIO BRANCO/AC   \n",
       "14612              474496                 1           BUJARI/AC   \n",
       "\n",
       "            Município Fim Tipo de Transporte Placa(s)/Registro do Veículo  UF  \\\n",
       "0      CRUZEIRO DO SUL/AC         Rodoviario                      MZO0581  AC   \n",
       "1      CRUZEIRO DO SUL/AC         Rodoviario                      MZN9222  AC   \n",
       "2           RIO BRANCO/AC         Rodoviario                      MZZ4636  AC   \n",
       "3      CRUZEIRO DO SUL/AC         Rodoviario                      MZO0089  AC   \n",
       "4           RIO BRANCO/AC         Rodoviario                      JZO0955  AC   \n",
       "...                   ...                ...                          ...  ..   \n",
       "14608       RIO BRANCO/AC         Rodoviario                      MCJ9980  AC   \n",
       "14609       RIO BRANCO/AC         Rodoviario                      NBX7537  AC   \n",
       "14610       PORTO ACRE/AC         Rodoviario                      MZZ4636  AC   \n",
       "14611       RIO BRANCO/AC         Rodoviario                      NCR3630  AC   \n",
       "14612       RIO BRANCO/AC         Rodoviario                      NBK7358  AC   \n",
       "\n",
       "        RegistroEntrada  \n",
       "0      09/10/2019 11:00  \n",
       "1      09/10/2019 11:00  \n",
       "2      09/10/2019 11:00  \n",
       "3      09/10/2019 11:00  \n",
       "4      09/10/2019 11:00  \n",
       "...                 ...  \n",
       "14608  09/10/2019 11:00  \n",
       "14609  09/10/2019 11:00  \n",
       "14610  09/10/2019 11:00  \n",
       "14611  09/10/2019 11:00  \n",
       "14612  09/10/2019 11:00  \n",
       "\n",
       "[14613 rows x 8 columns]"
      ]
     },
     "execution_count": 4,
     "metadata": {},
     "output_type": "execute_result"
    }
   ],
   "source": [
    "extracao"
   ]
  },
  {
   "cell_type": "code",
   "execution_count": 5,
   "metadata": {},
   "outputs": [],
   "source": [
    "names_transporte = [\"Nome/Razão Social do Remetente\",\"CPF/CNPJ do Remetente\",\"UF de Origem\",\"Município de Origem\",\"CTF do Remetente\",\"Tipo de Origem\",\"Nome do Pátio de Origem\",\"Nº de Série da Autex\",\"Nº da Autorização Original\",\"Tipo de Autex\",\"Órgão Emissor da Autex\",\"Data de Validade da Autex\",\"Nº da DI\",\"Órgão Emissor da DI\",\"Data de Validade da DI\",\"Nome Porto de Entrada no País\",\"País de Origem\",\"Nº da Autesp\",\"Órgão Emissor da Autesp\",\"Data de Validade da Autesp\",\"Latitude de Origem\",\"Longitude de Origem\",\"UF de Destino\",\"Município de Destino\",\"Nome/Razão Social Destinatário\",\"CPF/CNPJ do Destinatário\",\"CTF do Destinatário\",\"Nome Pátio de Destino\",\"Latitude do Destino\",\"Longitude do Destino\",\"Nome Porto de Saída do País\",\"Município do Porto\",\"UF do Porto\",\"País de Destino\",\"Data de Emissão\",\"Ano\",\"Validade Inicial\",\"Validade Final\",\"Última Transação\",\"Data da Última Transação\",\"Nº da Oferta\",\"Nº de Série do DOF\",\"Código de Controle do DOF\",\"Rota do Transporte\",\"Produto\",\"Nome Científico\",\"Nome Popular\",\"Unidade\",\"Volume\",\"Valor (R$)\",\"RegistroEntrada\"]"
   ]
  },
  {
   "cell_type": "code",
   "execution_count": 6,
   "metadata": {},
   "outputs": [],
   "source": [
    "transporte = pandas.read_csv('transporte.csv', header=None, names=names_transporte,delimiter=\";\")"
   ]
  },
  {
   "cell_type": "code",
   "execution_count": 7,
   "metadata": {},
   "outputs": [
    {
     "data": {
      "text/html": [
       "<div>\n",
       "<style scoped>\n",
       "    .dataframe tbody tr th:only-of-type {\n",
       "        vertical-align: middle;\n",
       "    }\n",
       "\n",
       "    .dataframe tbody tr th {\n",
       "        vertical-align: top;\n",
       "    }\n",
       "\n",
       "    .dataframe thead th {\n",
       "        text-align: right;\n",
       "    }\n",
       "</style>\n",
       "<table border=\"1\" class=\"dataframe\">\n",
       "  <thead>\n",
       "    <tr style=\"text-align: right;\">\n",
       "      <th></th>\n",
       "      <th>Nome/Razão Social do Remetente</th>\n",
       "      <th>CPF/CNPJ do Remetente</th>\n",
       "      <th>UF de Origem</th>\n",
       "      <th>Município de Origem</th>\n",
       "      <th>CTF do Remetente</th>\n",
       "      <th>Tipo de Origem</th>\n",
       "      <th>Nome do Pátio de Origem</th>\n",
       "      <th>Nº de Série da Autex</th>\n",
       "      <th>Nº da Autorização Original</th>\n",
       "      <th>Tipo de Autex</th>\n",
       "      <th>...</th>\n",
       "      <th>Nº de Série do DOF</th>\n",
       "      <th>Código de Controle do DOF</th>\n",
       "      <th>Rota do Transporte</th>\n",
       "      <th>Produto</th>\n",
       "      <th>Nome Científico</th>\n",
       "      <th>Nome Popular</th>\n",
       "      <th>Unidade</th>\n",
       "      <th>Volume</th>\n",
       "      <th>Valor (R$)</th>\n",
       "      <th>RegistroEntrada</th>\n",
       "    </tr>\n",
       "  </thead>\n",
       "  <tbody>\n",
       "    <tr>\n",
       "      <td>0</td>\n",
       "      <td>LAMINADOS TRIUNFO LTDA</td>\n",
       "      <td>05.618.631/0001-92</td>\n",
       "      <td>AC</td>\n",
       "      <td>SENA MADUREIRA</td>\n",
       "      <td>302980</td>\n",
       "      <td>AUTEX-Exploração em Planos de Manejo</td>\n",
       "      <td>FAZENDA CEREJEIRA</td>\n",
       "      <td>2.200703e+09</td>\n",
       "      <td>12012200700009</td>\n",
       "      <td>AUTEX-Exploração em Planos de Manejo</td>\n",
       "      <td>...</td>\n",
       "      <td>613367</td>\n",
       "      <td>5129232999151425</td>\n",
       "      <td>SENA MADUREIRA/AC-RIO BRANCO/AC</td>\n",
       "      <td>Tora</td>\n",
       "      <td>Scheffleramorototoni</td>\n",
       "      <td>Morototó</td>\n",
       "      <td>M3</td>\n",
       "      <td>2,391</td>\n",
       "      <td>47,82</td>\n",
       "      <td>17/09/2019 09:39</td>\n",
       "    </tr>\n",
       "    <tr>\n",
       "      <td>1</td>\n",
       "      <td>LAMINADOS TRIUNFO LTDA</td>\n",
       "      <td>05.618.631/0001-92</td>\n",
       "      <td>AC</td>\n",
       "      <td>SENA MADUREIRA</td>\n",
       "      <td>302980</td>\n",
       "      <td>AUTEX-Exploração em Planos de Manejo</td>\n",
       "      <td>FAZENDA CEREJEIRA</td>\n",
       "      <td>2.200703e+09</td>\n",
       "      <td>12012200700009</td>\n",
       "      <td>AUTEX-Exploração em Planos de Manejo</td>\n",
       "      <td>...</td>\n",
       "      <td>613367</td>\n",
       "      <td>5129232999151425</td>\n",
       "      <td>SENA MADUREIRA/AC-RIO BRANCO/AC</td>\n",
       "      <td>Tora</td>\n",
       "      <td>Hirtellainsignis</td>\n",
       "      <td>Macuco</td>\n",
       "      <td>M3</td>\n",
       "      <td>3,492</td>\n",
       "      <td>69,85</td>\n",
       "      <td>17/09/2019 09:39</td>\n",
       "    </tr>\n",
       "    <tr>\n",
       "      <td>2</td>\n",
       "      <td>LAMINADOS TRIUNFO LTDA</td>\n",
       "      <td>05.618.631/0001-92</td>\n",
       "      <td>AC</td>\n",
       "      <td>SENA MADUREIRA</td>\n",
       "      <td>302980</td>\n",
       "      <td>AUTEX-Exploração em Planos de Manejo</td>\n",
       "      <td>FAZENDA CEREJEIRA</td>\n",
       "      <td>2.200703e+09</td>\n",
       "      <td>12012200700009</td>\n",
       "      <td>AUTEX-Exploração em Planos de Manejo</td>\n",
       "      <td>...</td>\n",
       "      <td>613367</td>\n",
       "      <td>5129232999151425</td>\n",
       "      <td>SENA MADUREIRA/AC-RIO BRANCO/AC</td>\n",
       "      <td>Tora</td>\n",
       "      <td>Tabebuiaserratifolia</td>\n",
       "      <td>Ipê</td>\n",
       "      <td>M3</td>\n",
       "      <td>1,555</td>\n",
       "      <td>31,1</td>\n",
       "      <td>17/09/2019 09:39</td>\n",
       "    </tr>\n",
       "    <tr>\n",
       "      <td>3</td>\n",
       "      <td>LAMINADOS TRIUNFO LTDA</td>\n",
       "      <td>05.618.631/0001-92</td>\n",
       "      <td>AC</td>\n",
       "      <td>SENA MADUREIRA</td>\n",
       "      <td>302980</td>\n",
       "      <td>AUTEX-Exploração em Planos de Manejo</td>\n",
       "      <td>FAZENDA CEREJEIRA</td>\n",
       "      <td>2.200703e+09</td>\n",
       "      <td>12012200700009</td>\n",
       "      <td>AUTEX-Exploração em Planos de Manejo</td>\n",
       "      <td>...</td>\n",
       "      <td>613367</td>\n",
       "      <td>5129232999151425</td>\n",
       "      <td>SENA MADUREIRA/AC-RIO BRANCO/AC</td>\n",
       "      <td>Tora</td>\n",
       "      <td>Cedrelaodorata</td>\n",
       "      <td>Cedro</td>\n",
       "      <td>M3</td>\n",
       "      <td>1,551</td>\n",
       "      <td>31,02</td>\n",
       "      <td>17/09/2019 09:39</td>\n",
       "    </tr>\n",
       "    <tr>\n",
       "      <td>4</td>\n",
       "      <td>LAMINADOS TRIUNFO LTDA</td>\n",
       "      <td>05.618.631/0001-92</td>\n",
       "      <td>AC</td>\n",
       "      <td>SENA MADUREIRA</td>\n",
       "      <td>302980</td>\n",
       "      <td>AUTEX-Exploração em Planos de Manejo</td>\n",
       "      <td>FAZENDA CEREJEIRA</td>\n",
       "      <td>2.200703e+09</td>\n",
       "      <td>12012200700009</td>\n",
       "      <td>AUTEX-Exploração em Planos de Manejo</td>\n",
       "      <td>...</td>\n",
       "      <td>613367</td>\n",
       "      <td>5129232999151425</td>\n",
       "      <td>SENA MADUREIRA/AC-RIO BRANCO/AC</td>\n",
       "      <td>Tora</td>\n",
       "      <td>Thyrsodiumschomburgkianum</td>\n",
       "      <td>Catuaba</td>\n",
       "      <td>M3</td>\n",
       "      <td>3,078</td>\n",
       "      <td>61,57</td>\n",
       "      <td>17/09/2019 09:39</td>\n",
       "    </tr>\n",
       "  </tbody>\n",
       "</table>\n",
       "<p>5 rows × 51 columns</p>\n",
       "</div>"
      ],
      "text/plain": [
       "  Nome/Razão Social do Remetente CPF/CNPJ do Remetente UF de Origem  \\\n",
       "0         LAMINADOS TRIUNFO LTDA    05.618.631/0001-92           AC   \n",
       "1         LAMINADOS TRIUNFO LTDA    05.618.631/0001-92           AC   \n",
       "2         LAMINADOS TRIUNFO LTDA    05.618.631/0001-92           AC   \n",
       "3         LAMINADOS TRIUNFO LTDA    05.618.631/0001-92           AC   \n",
       "4         LAMINADOS TRIUNFO LTDA    05.618.631/0001-92           AC   \n",
       "\n",
       "  Município de Origem  CTF do Remetente                        Tipo de Origem  \\\n",
       "0      SENA MADUREIRA            302980  AUTEX-Exploração em Planos de Manejo   \n",
       "1      SENA MADUREIRA            302980  AUTEX-Exploração em Planos de Manejo   \n",
       "2      SENA MADUREIRA            302980  AUTEX-Exploração em Planos de Manejo   \n",
       "3      SENA MADUREIRA            302980  AUTEX-Exploração em Planos de Manejo   \n",
       "4      SENA MADUREIRA            302980  AUTEX-Exploração em Planos de Manejo   \n",
       "\n",
       "  Nome do Pátio de Origem  Nº de Série da Autex Nº da Autorização Original  \\\n",
       "0       FAZENDA CEREJEIRA          2.200703e+09             12012200700009   \n",
       "1       FAZENDA CEREJEIRA          2.200703e+09             12012200700009   \n",
       "2       FAZENDA CEREJEIRA          2.200703e+09             12012200700009   \n",
       "3       FAZENDA CEREJEIRA          2.200703e+09             12012200700009   \n",
       "4       FAZENDA CEREJEIRA          2.200703e+09             12012200700009   \n",
       "\n",
       "                          Tipo de Autex  ...  Nº de Série do DOF  \\\n",
       "0  AUTEX-Exploração em Planos de Manejo  ...              613367   \n",
       "1  AUTEX-Exploração em Planos de Manejo  ...              613367   \n",
       "2  AUTEX-Exploração em Planos de Manejo  ...              613367   \n",
       "3  AUTEX-Exploração em Planos de Manejo  ...              613367   \n",
       "4  AUTEX-Exploração em Planos de Manejo  ...              613367   \n",
       "\n",
       "  Código de Controle do DOF               Rota do Transporte  Produto  \\\n",
       "0          5129232999151425  SENA MADUREIRA/AC-RIO BRANCO/AC     Tora   \n",
       "1          5129232999151425  SENA MADUREIRA/AC-RIO BRANCO/AC     Tora   \n",
       "2          5129232999151425  SENA MADUREIRA/AC-RIO BRANCO/AC     Tora   \n",
       "3          5129232999151425  SENA MADUREIRA/AC-RIO BRANCO/AC     Tora   \n",
       "4          5129232999151425  SENA MADUREIRA/AC-RIO BRANCO/AC     Tora   \n",
       "\n",
       "             Nome Científico  Nome Popular  Unidade  Volume  Valor (R$)  \\\n",
       "0       Scheffleramorototoni      Morototó       M3   2,391       47,82   \n",
       "1           Hirtellainsignis        Macuco       M3   3,492       69,85   \n",
       "2       Tabebuiaserratifolia           Ipê       M3   1,555        31,1   \n",
       "3             Cedrelaodorata         Cedro       M3   1,551       31,02   \n",
       "4  Thyrsodiumschomburgkianum       Catuaba       M3   3,078       61,57   \n",
       "\n",
       "    RegistroEntrada  \n",
       "0  17/09/2019 09:39  \n",
       "1  17/09/2019 09:39  \n",
       "2  17/09/2019 09:39  \n",
       "3  17/09/2019 09:39  \n",
       "4  17/09/2019 09:39  \n",
       "\n",
       "[5 rows x 51 columns]"
      ]
     },
     "execution_count": 7,
     "metadata": {},
     "output_type": "execute_result"
    }
   ],
   "source": [
    "transporte.head()"
   ]
  },
  {
   "cell_type": "markdown",
   "metadata": {},
   "source": [
    "## Including library used for Kmeans allogorithms"
   ]
  },
  {
   "cell_type": "code",
   "execution_count": 8,
   "metadata": {},
   "outputs": [],
   "source": [
    "from sklearn.cluster import KMeans\n",
    "import matplotlib.pyplot as plt\n",
    "from sklearn.decomposition import PCA\n",
    "from scipy.cluster.hierarchy import dendrogram, linkage\n",
    "from mpl_toolkits.mplot3d import Axes3D"
   ]
  },
  {
   "cell_type": "markdown",
   "metadata": {},
   "source": [
    "### Preprocessing"
   ]
  },
  {
   "cell_type": "code",
   "execution_count": 9,
   "metadata": {},
   "outputs": [],
   "source": [
    "\n",
    "extracao['RegistroEntrada']= extracao['RegistroEntrada'].astype('datetime64[ns]') \n"
   ]
  },
  {
   "cell_type": "code",
   "execution_count": 10,
   "metadata": {},
   "outputs": [],
   "source": [
    "lista = [pandas.Timestamp(year=2019, month=9, day=25, hour=12, minute=50)\n",
    "        ,pandas.Timestamp(year=2019, month=11, day=2, hour=15, minute=39)\n",
    "        ,pandas.Timestamp(year=2019, month=9, day=27, hour=11, minute=42)\n",
    "        ,pandas.Timestamp(year=2019, month=10, day=28, hour=17, minute=34)\n",
    "        ,pandas.Timestamp(year=2019, month=9, day=27, hour=18, minute=12)]"
   ]
  },
  {
   "cell_type": "code",
   "execution_count": 11,
   "metadata": {},
   "outputs": [],
   "source": [
    "for row in range(extracao.shape[0]-10000):\n",
    "    extracao.at[row,\"RegistroEntrada\"] = random.choice(lista)"
   ]
  },
  {
   "cell_type": "code",
   "execution_count": 12,
   "metadata": {},
   "outputs": [],
   "source": [
    "\n",
    "transporte['RegistroEntrada'] = transporte['RegistroEntrada'].astype('datetime64[ns]') \n",
    "\n",
    "\n",
    "lista = [pandas.Timestamp(year=2019, month=9, day=10, hour=9, minute=39)\n",
    "        ,pandas.Timestamp(year=2019, month=8, day=12, hour=10, minute=39)\n",
    "        ,pandas.Timestamp(year=2019, month=9, day=19, hour=11, minute=39)\n",
    "        ,pandas.Timestamp(year=2019, month=10, day=13, hour=7, minute=39)\n",
    "        ,pandas.Timestamp(year=2019, month=9, day=13, hour=6, minute=39)]\n",
    "\n",
    "for row in range(transporte.shape[0]-10000):\n",
    "    transporte.at[row,\"RegistroEntrada\"] = random.choice(lista)\n",
    "\n"
   ]
  },
  {
   "cell_type": "code",
   "execution_count": 13,
   "metadata": {},
   "outputs": [],
   "source": [
    "lista = [pandas.Timestamp(year=2019, month=10, day=26, hour=10, minute=40)\n",
    "        ,pandas.Timestamp(year=2019, month=11, day=27, hour=9, minute=39)\n",
    "        ,pandas.Timestamp(year=2019, month=10, day=25, hour=12, minute=12)\n",
    "        ,pandas.Timestamp(year=2019, month=12, day=27, hour=7, minute=10)\n",
    "        ,pandas.Timestamp(year=2019, month=12, day=25, hour=7, minute=9)]"
   ]
  },
  {
   "cell_type": "code",
   "execution_count": 14,
   "metadata": {},
   "outputs": [],
   "source": [
    "for row in range(transporte.shape[0]-32000):\n",
    "    transporte.at[row,\"RegistroEntrada\"] = random.choice(lista)"
   ]
  },
  {
   "cell_type": "code",
   "execution_count": 15,
   "metadata": {
    "scrolled": true
   },
   "outputs": [],
   "source": [
    "recorte_extracao = extracao.drop([\"Número do Trecho\",\"Município Início\",\"Município Fim\",\"Tipo de Transporte\",\"Placa(s)/Registro do Veículo\",\"UF\"], axis=1)"
   ]
  },
  {
   "cell_type": "code",
   "execution_count": 16,
   "metadata": {
    "scrolled": true
   },
   "outputs": [],
   "source": [
    "recorte_transporte = transporte.drop( [\"Nome/Razão Social do Remetente\",\"CPF/CNPJ do Remetente\",\"UF de Origem\",\"Município de Origem\",\"CTF do Remetente\",\"Tipo de Origem\",\"Nome do Pátio de Origem\",\"Nº de Série da Autex\",\"Nº da Autorização Original\",\"Tipo de Autex\",\"Órgão Emissor da Autex\",\"Data de Validade da Autex\",\"Nº da DI\",\"Órgão Emissor da DI\",\"Data de Validade da DI\",\"Nome Porto de Entrada no País\",\"País de Origem\",\"Nº da Autesp\",\"Órgão Emissor da Autesp\",\"Data de Validade da Autesp\",\"Latitude de Origem\",\"Longitude de Origem\",\"UF de Destino\",\"Município de Destino\",\"Nome/Razão Social Destinatário\",\"CPF/CNPJ do Destinatário\",\"CTF do Destinatário\",\"Nome Pátio de Destino\",\"Latitude do Destino\",\"Longitude do Destino\",\"Nome Porto de Saída do País\",\"Município do Porto\",\"UF do Porto\",\"País de Destino\",\"Data de Emissão\",\"Ano\",\"Validade Inicial\",\"Validade Final\",\"Última Transação\",\"Data da Última Transação\",\"Nº da Oferta\",\"Código de Controle do DOF\",\"Rota do Transporte\",\"Produto\",\"Nome Científico\",\"Nome Popular\",\"Unidade\",\"Volume\",\"Valor (R$)\",], axis=1)"
   ]
  },
  {
   "cell_type": "code",
   "execution_count": 17,
   "metadata": {},
   "outputs": [],
   "source": [
    "entradas_extracao = []\n",
    "for row in range(recorte_extracao.shape[0]):\n",
    "    entradas_extracao.append(recorte_extracao.loc[row,\"RegistroEntrada\"])"
   ]
  },
  {
   "cell_type": "code",
   "execution_count": 18,
   "metadata": {},
   "outputs": [],
   "source": [
    "entradas_transporte = []\n",
    "for row in range(recorte_extracao.shape[0]):\n",
    "    entradas_transporte.append(recorte_transporte.loc[row,\"RegistroEntrada\"])"
   ]
  },
  {
   "cell_type": "code",
   "execution_count": 19,
   "metadata": {},
   "outputs": [],
   "source": [
    "tempo_transporte = []\n",
    "for row in range(recorte_extracao.shape[0]):\n",
    "    tempo_transporte.append((entradas_transporte[row] - entradas_extracao[row]))\n",
    "tempo = []\n",
    "for row in range(recorte_extracao.shape[0]):\n",
    "    tempo.append(tempo_transporte[row].days)"
   ]
  },
  {
   "cell_type": "code",
   "execution_count": 20,
   "metadata": {},
   "outputs": [
    {
     "data": {
      "text/html": [
       "<div>\n",
       "<style scoped>\n",
       "    .dataframe tbody tr th:only-of-type {\n",
       "        vertical-align: middle;\n",
       "    }\n",
       "\n",
       "    .dataframe tbody tr th {\n",
       "        vertical-align: top;\n",
       "    }\n",
       "\n",
       "    .dataframe thead th {\n",
       "        text-align: right;\n",
       "    }\n",
       "</style>\n",
       "<table border=\"1\" class=\"dataframe\">\n",
       "  <thead>\n",
       "    <tr style=\"text-align: right;\">\n",
       "      <th></th>\n",
       "      <th>tempo</th>\n",
       "    </tr>\n",
       "    <tr>\n",
       "      <th>Nº de Série do DOF</th>\n",
       "      <th></th>\n",
       "    </tr>\n",
       "  </thead>\n",
       "  <tbody>\n",
       "    <tr>\n",
       "      <td>668530</td>\n",
       "      <td>60</td>\n",
       "    </tr>\n",
       "    <tr>\n",
       "      <td>424502</td>\n",
       "      <td>29</td>\n",
       "    </tr>\n",
       "    <tr>\n",
       "      <td>549785</td>\n",
       "      <td>52</td>\n",
       "    </tr>\n",
       "    <tr>\n",
       "      <td>339788</td>\n",
       "      <td>62</td>\n",
       "    </tr>\n",
       "    <tr>\n",
       "      <td>460049</td>\n",
       "      <td>30</td>\n",
       "    </tr>\n",
       "    <tr>\n",
       "      <td>...</td>\n",
       "      <td>...</td>\n",
       "    </tr>\n",
       "    <tr>\n",
       "      <td>572101</td>\n",
       "      <td>-30</td>\n",
       "    </tr>\n",
       "    <tr>\n",
       "      <td>642280</td>\n",
       "      <td>-30</td>\n",
       "    </tr>\n",
       "    <tr>\n",
       "      <td>566519</td>\n",
       "      <td>32</td>\n",
       "    </tr>\n",
       "    <tr>\n",
       "      <td>599381</td>\n",
       "      <td>2</td>\n",
       "    </tr>\n",
       "    <tr>\n",
       "      <td>474496</td>\n",
       "      <td>32</td>\n",
       "    </tr>\n",
       "  </tbody>\n",
       "</table>\n",
       "<p>14613 rows × 1 columns</p>\n",
       "</div>"
      ],
      "text/plain": [
       "                    tempo\n",
       "Nº de Série do DOF       \n",
       "668530                 60\n",
       "424502                 29\n",
       "549785                 52\n",
       "339788                 62\n",
       "460049                 30\n",
       "...                   ...\n",
       "572101                -30\n",
       "642280                -30\n",
       "566519                 32\n",
       "599381                  2\n",
       "474496                 32\n",
       "\n",
       "[14613 rows x 1 columns]"
      ]
     },
     "execution_count": 20,
     "metadata": {},
     "output_type": "execute_result"
    }
   ],
   "source": [
    "distancias = pandas.DataFrame(data=tempo, columns =[\"tempo\"], index = recorte_extracao[\"Nº de Série do DOF\"])\n",
    "distancias"
   ]
  },
  {
   "cell_type": "markdown",
   "metadata": {},
   "source": [
    "### Using the sklearn.cluster.Kmaens library and as suggested 2 clusters to define"
   ]
  },
  {
   "cell_type": "code",
   "execution_count": 21,
   "metadata": {},
   "outputs": [],
   "source": [
    "kmaens = KMeans(n_clusters= 2, random_state=0).fit(distancias.values)"
   ]
  },
  {
   "cell_type": "markdown",
   "metadata": {},
   "source": [
    "### The groups generated by Kmeans-3 are presented."
   ]
  },
  {
   "cell_type": "code",
   "execution_count": 22,
   "metadata": {},
   "outputs": [
    {
     "data": {
      "text/html": [
       "<div>\n",
       "<style scoped>\n",
       "    .dataframe tbody tr th:only-of-type {\n",
       "        vertical-align: middle;\n",
       "    }\n",
       "\n",
       "    .dataframe tbody tr th {\n",
       "        vertical-align: top;\n",
       "    }\n",
       "\n",
       "    .dataframe thead th {\n",
       "        text-align: right;\n",
       "    }\n",
       "</style>\n",
       "<table border=\"1\" class=\"dataframe\">\n",
       "  <thead>\n",
       "    <tr style=\"text-align: right;\">\n",
       "      <th></th>\n",
       "      <th>Série DOF</th>\n",
       "      <th>Grupos</th>\n",
       "    </tr>\n",
       "  </thead>\n",
       "  <tbody>\n",
       "    <tr>\n",
       "      <td>0</td>\n",
       "      <td>668530</td>\n",
       "      <td>0</td>\n",
       "    </tr>\n",
       "    <tr>\n",
       "      <td>4618</td>\n",
       "      <td>646009</td>\n",
       "      <td>0</td>\n",
       "    </tr>\n",
       "    <tr>\n",
       "      <td>4617</td>\n",
       "      <td>620222</td>\n",
       "      <td>0</td>\n",
       "    </tr>\n",
       "    <tr>\n",
       "      <td>4616</td>\n",
       "      <td>602406</td>\n",
       "      <td>0</td>\n",
       "    </tr>\n",
       "    <tr>\n",
       "      <td>4615</td>\n",
       "      <td>605721</td>\n",
       "      <td>0</td>\n",
       "    </tr>\n",
       "    <tr>\n",
       "      <td>...</td>\n",
       "      <td>...</td>\n",
       "      <td>...</td>\n",
       "    </tr>\n",
       "    <tr>\n",
       "      <td>7709</td>\n",
       "      <td>620915</td>\n",
       "      <td>1</td>\n",
       "    </tr>\n",
       "    <tr>\n",
       "      <td>7710</td>\n",
       "      <td>554929</td>\n",
       "      <td>1</td>\n",
       "    </tr>\n",
       "    <tr>\n",
       "      <td>7711</td>\n",
       "      <td>463721</td>\n",
       "      <td>1</td>\n",
       "    </tr>\n",
       "    <tr>\n",
       "      <td>7733</td>\n",
       "      <td>590854</td>\n",
       "      <td>1</td>\n",
       "    </tr>\n",
       "    <tr>\n",
       "      <td>14612</td>\n",
       "      <td>474496</td>\n",
       "      <td>1</td>\n",
       "    </tr>\n",
       "  </tbody>\n",
       "</table>\n",
       "<p>14613 rows × 2 columns</p>\n",
       "</div>"
      ],
      "text/plain": [
       "       Série DOF  Grupos\n",
       "0         668530       0\n",
       "4618      646009       0\n",
       "4617      620222       0\n",
       "4616      602406       0\n",
       "4615      605721       0\n",
       "...          ...     ...\n",
       "7709      620915       1\n",
       "7710      554929       1\n",
       "7711      463721       1\n",
       "7733      590854       1\n",
       "14612     474496       1\n",
       "\n",
       "[14613 rows x 2 columns]"
      ]
     },
     "execution_count": 22,
     "metadata": {},
     "output_type": "execute_result"
    }
   ],
   "source": [
    "grupos = pandas.DataFrame()\n",
    "grupos['Série DOF'] = distancias.index.values\n",
    "grupos['Grupos'] = kmaens.labels_\n",
    "grupos.sort_values(by=['Grupos'])"
   ]
  },
  {
   "cell_type": "markdown",
   "metadata": {},
   "source": [
    "#### Group 0 (Not Validated):\n",
    "These are those with similar time rates on delivery to and from the nearby extraction point, and have been verified by the recipient.\n",
    "#### Group 1 (Validated):\n",
    "These are those with similar time rates on delivery to and from the nearby extraction point, and have not been verified by the recipient due to delays."
   ]
  },
  {
   "cell_type": "markdown",
   "metadata": {},
   "source": [
    "### Generating the data in dimension 2, the 2 vectors were obtained with the fit_transform method."
   ]
  },
  {
   "cell_type": "code",
   "execution_count": 23,
   "metadata": {},
   "outputs": [
    {
     "data": {
      "text/plain": [
       "array([[13.72908835, 54.48276528],\n",
       "       [44.72908835, 23.48276528],\n",
       "       [21.72908835, 46.48276528],\n",
       "       ...,\n",
       "       [41.72908835, 26.48276528],\n",
       "       [71.72908835,  3.51723472],\n",
       "       [41.72908835, 26.48276528]])"
      ]
     },
     "execution_count": 23,
     "metadata": {},
     "output_type": "execute_result"
    }
   ],
   "source": [
    "axes =kmaens.fit(distancias).transform(distancias)\n",
    "axes"
   ]
  },
  {
   "cell_type": "code",
   "execution_count": 24,
   "metadata": {},
   "outputs": [],
   "source": [
    "axes1 = []\n",
    "for i in range(len(axes)):\n",
    "    axes1.append(axes[i][0])\n",
    "axes2 = []\n",
    "for i in range(len(axes)):\n",
    "    axes2.append(axes[i][1])\n"
   ]
  },
  {
   "cell_type": "code",
   "execution_count": 25,
   "metadata": {
    "scrolled": false
   },
   "outputs": [
    {
     "data": {
      "text/plain": [
       "<function matplotlib.pyplot.show(*args, **kw)>"
      ]
     },
     "execution_count": 25,
     "metadata": {},
     "output_type": "execute_result"
    },
    {
     "data": {
      "image/png": "[encoded data removed]",
      "text/plain": [
       "<Figure size 2880x1440 with 1 Axes>"
      ]
     },
     "metadata": {
      "needs_background": "light"
     },
     "output_type": "display_data"
    }
   ],
   "source": [
    "fig = plt.figure(figsize=(40, 20))\n",
    "plt.scatter(axes1,axes2, c=kmaens.labels_, linewidths=50 )\n",
    "plt.show"
   ]
  }
 ],
 "metadata": {
  "kernelspec": {
   "display_name": "Python 3",
   "language": "python",
   "name": "python3"
  },
  "language_info": {
   "codemirror_mode": {
    "name": "ipython",
    "version": 3
   },
   "file_extension": ".py",
   "mimetype": "text/x-python",
   "name": "python",
   "nbconvert_exporter": "python",
   "pygments_lexer": "ipython3",
   "version": "3.7.4"
  }
 },
 "nbformat": 4,
 "nbformat_minor": 2
}
